{
 "cells": [
  {
   "cell_type": "markdown",
   "id": "9f2b35a8-6133-45ec-acdd-f7d12685a748",
   "metadata": {},
   "source": [
    "Importing necessary packages"
   ]
  },
  {
   "cell_type": "code",
   "execution_count": null,
   "id": "e0d1be77-ddc1-422f-ac9b-cf292eff2ccb",
   "metadata": {},
   "outputs": [],
   "source": [
    "import numpy as np\n",
    "import matplotlib.pyplot as plt"
   ]
  },
  {
   "cell_type": "markdown",
   "id": "e3f19183-0e5d-47c3-91cb-53a65e6442de",
   "metadata": {},
   "source": [
    "Plotting the energy spectrum of the Harper-Hofstadter Hamiltonian (real space)"
   ]
  },
  {
   "cell_type": "code",
   "execution_count": null,
   "id": "ef6a43ac-382b-4c8d-86db-b86dde8ac21c",
   "metadata": {},
   "outputs": [],
   "source": [
    "N = 20\n",
    "t_nn, t_nnn = 1, 0.2\n",
    "alphas = np.arange(0, N**2+1, 1) / N**2\n",
    "energies_nn = []\n",
    "alpha_vals = []\n",
    "\n",
    "for alpha in alphas:\n",
    "    eigvals = H_real(N, alpha, t_nn, t_nnn)\n",
    "    energies.append(eigvals)\n",
    "    alpha_vals.append([alpha]*len(eigvals))\n",
    "\n",
    "fig = plt.figure(figsize=(10, 8))\n",
    "ax = plt.axes()\n",
    "ax.set_xlabel(r\"$\\alpha$\", va = \"center\", size = \"large\", labelpad=10.0)\n",
    "ax.set_ylabel(r\"$\\epsilon$\", va = \"center\", rotation = \"horizontal\", size = \"large\", labelpad = 10.0)\n",
    "\n",
    "for i in range(len(alpha_vals)):\n",
    "    plt.scatter(alpha_vals[i], energies_nn[i], s = 0.00001, color='k')"
   ]
  },
  {
   "cell_type": "markdown",
   "id": "be982d1f-f7cb-4894-86b9-8d9e4c82576d",
   "metadata": {},
   "source": [
    "Plotting the energy spectrum in k-space"
   ]
  },
  {
   "cell_type": "code",
   "execution_count": null,
   "id": "d21207b2-e271-41dd-b5ca-786add67a43f",
   "metadata": {},
   "outputs": [],
   "source": [
    "q = 3 # Denominator of alpha\n",
    "t_nn, t_nnn = 1, 0.2\n",
    "\n",
    "N = 20*q      \n",
    "k_x = np.arange(-N//2,N//2)*(2*np.pi/N)\n",
    "k_y = np.arange(-N//2,N//2)*(2*np.pi/(q*N))\n",
    "K_x, K_y = np.meshgrid(k_x, k_y)\n",
    "\n",
    "energies = np.zeros((len(k_x), len(k_y), q))\n",
    "for i, kx_val in enumerate(k_x):\n",
    "    for j, ky_val in enumerate(k_y):\n",
    "        eigenvalues, eigenvectors = H_k(kx_val, ky_val, q, t_nn, t_nnn)\n",
    "        energies[i, j] = np.sort(eigenvalues)\n",
    "\n",
    "fig = plt.figure(figsize=(8,8))\n",
    "ax = plt.axes(projection ='3d')\n",
    "for i in range(q):\n",
    "    ax.plot_surface(K_x/np.pi, K_y/np.pi, energies[:, :, i], color = 'grey')\n",
    "\n",
    "ax.set_xlabel(r\"$k_x$ $(\\pi/a)$\")\n",
    "ax.set_ylabel(r\"$k_y$ $(\\pi/a)$\")\n",
    "ax.set_zlabel(\"$\\epsilon$\")\n",
    "ax.view_init(azim = 0, elev = 0)"
   ]
  },
  {
   "cell_type": "markdown",
   "id": "00d17d24-d222-4ca8-9f55-629f4559e916",
   "metadata": {},
   "source": [
    "Plotting the quasienergies along a path through high symmetry points in the Brillouin Zone"
   ]
  },
  {
   "cell_type": "code",
   "execution_count": null,
   "id": "2f7ee87d-323b-4e23-9887-4fcd20c22f17",
   "metadata": {},
   "outputs": [],
   "source": [
    "# Plotting the quasienergies by unfolding the magnetic Brillioun zone, moving from the gamma point (0, 0), to the Y point (0, pi/(a*q)), \n",
    "# to the S point (pi/a, pi/(a*q)), and back to Gamma point\n",
    "\n",
    "q_1, q_2 = 2, 3 # Numerator and denominator of alpha\n",
    "t_nn, t_nnn = 1, 0.2\n",
    "T_1, T_2 = 0.3, 0.7\n",
    "\n",
    "N = 20*q      \n",
    "k_x = np.arange(-N//2,N//2)*(2*np.pi/N)\n",
    "k_y = np.arange(-N//2,N//2)*(2*np.pi/(q*N))\n",
    "\n",
    "quasienergies, eigenvectors = H_F_exact(0, 0, q_1, q_2, q, T_1, T_2)\n",
    "sorted_energies = [quasienergies] #Initializing an array of energies to be plotted\n",
    "\n",
    "k_x_pos = np.sort(k_x[k_x > 0])\n",
    "k_y_pos = np.sort(k_y[k_y > 0])\n",
    "k_return = [(k_x_pos[-i], k_y_pos[-i]) for i in range(2, len(k_x_pos) + 1)]\n",
    "\n",
    "for ky_val in k_y_pos:\n",
    "    quasienergies2, eigenvectors2 = H_F_exact(0, ky_val, q_1, q_2, q, T_1, T_2)\n",
    "    overlap_mat = np.abs(np.transpose(np.conj(eigenvectors)) @ eigenvectors2) # overlap matrix\n",
    "    row_ind, col_ind = linear_sum_assignment(-overlap_mat) # maximizing the overlap between neighboring states\n",
    "    sorted_energies.append(quasienergies2[col_ind])\n",
    "    eigenvectors = eigenvectors2[:, col_ind]\n",
    "\n",
    "for kx_val in k_x_pos:\n",
    "    quasienergies2, eigenvectors2 = H_F_exact(kx_val, ky_val, q_1, q_2, q, T_1, T_2)\n",
    "    overlap_mat = np.abs(np.transpose(np.conj(eigenvectors)) @ eigenvectors2) # overlap matrix\n",
    "    row_ind, col_ind = linear_sum_assignment(-overlap_mat) # maximizing the overlap between neighboring states\n",
    "    sorted_energies.append(quasienergies2[col_ind])\n",
    "    eigenvectors = eigenvectors2[:, col_ind]\n",
    "    \n",
    "for k_point in k_return:\n",
    "    quasienergies2, eigenvectors2 = H_F_exact(k_point[0], k_point[1], q_1, q_2, q, T_1, T_2)\n",
    "    overlap_mat = np.abs(np.transpose(np.conj(eigenvectors)) @ eigenvectors2) # overlap matrix\n",
    "    row_ind, col_ind = linear_sum_assignment(-overlap_mat) # maximizing the overlap between neighboring states\n",
    "    sorted_energies.append(quasienergies2[col_ind])\n",
    "    eigenvectors = eigenvectors2[:, col_ind]   \n",
    "\n",
    "for i in range(q):\n",
    "    plt.scatter(range(len(np.array(sorted_energies)[:, i])), np.array(sorted_energies)[:, i], s=0.2)\n",
    "\n",
    "plt.xticks([0, len(k_y_pos), len(k_y_pos) + len(k_x_pos), len(sorted_energies)], [r\"$\\Gamma$\", \"Y\", \"S\", r\"$\\Gamma$\"])\n",
    "plt.ylabel(r\"$\\epsilon$\", va = \"center\", rotation = \"horizontal\", size = \"large\", labelpad = 10.0)"
   ]
  },
  {
   "cell_type": "markdown",
   "id": "7619c7d7-d688-4d47-a26f-95b33004c591",
   "metadata": {},
   "source": [
    "Plotting a Floquet-Hofstadter Butterfly for alpha, -alpha switching"
   ]
  },
  {
   "cell_type": "code",
   "execution_count": null,
   "id": "1476c3a1-b370-4a1a-b546-0879034bac81",
   "metadata": {},
   "outputs": [],
   "source": [
    "T_1, T_2 = 0.3, 0.7\n",
    "t_nn, t_nnn = 1, 0.2\n",
    "\n",
    "chosen_alphas = np.array([[0, 0]])\n",
    "q_vals = np.arange(30, 1, -1)\n",
    "for q_val in q_vals:\n",
    "    for p_val in range(1, q_val+1):\n",
    "        if p_val/q_val in list(chosen_alphas[:, 0]):\n",
    "            continue\n",
    "        else:\n",
    "            chosen_alphas = np.append(chosen_alphas, [[p_val/q_val, q_val]], axis=0)\n",
    "\n",
    "energies = []\n",
    "alpha_vals = []\n",
    "for j in range(len(chosen_alphas)):\n",
    "    if chosen_alphas[j, 1] < 8:\n",
    "        N_val = 3*int(chosen_alphas[j, 1])\n",
    "    elif chosen_alphas[j, 1] < 15:\n",
    "        N_val = 2*int(chosen_alphas[j, 1])\n",
    "    else:\n",
    "        N_val = int(chosen_alphas[j, 1])\n",
    "        \n",
    "    Phi_val = 2*np.pi*chosen_alphas[j, 0]\n",
    "    quasienergies = H_F_real(N_val, Phi_val, -Phi_val, T_1, T_2, t_nn, t_nnn)\n",
    "    energies.append(quasienergies)\n",
    "    alpha_vals.append([chosen_alphas[j, 0]]*len(quasienergies))\n",
    "\n",
    "fig = plt.figure(figsize=(10,8))\n",
    "ax = plt.axes()\n",
    "for i in range(len(energies)):  \n",
    "    plt.scatter(alphas[i], energies[i], marker='.', color='k', s=0.2)\n",
    "\n",
    "\n",
    "ax.set_ylabel(r\"$\\epsilon$\", rotation='horizontal', va='center', size='large', labelpad=10.0)\n",
    "ax.set_xlabel(r\"$\\alpha$\", va='center', size='large', labelpad=10.0)"
   ]
  },
  {
   "cell_type": "markdown",
   "id": "74ca86d9-920d-4e8b-9cd3-ad3da237b995",
   "metadata": {},
   "source": [
    "Plotting the quasienergies in real space for alpha_1, alpha_2 switching as a function of T_2/T with T_1 = T - T_2"
   ]
  },
  {
   "cell_type": "code",
   "execution_count": null,
   "id": "60ce7665-31e0-4380-bee6-2d1df3a212ac",
   "metadata": {},
   "outputs": [],
   "source": [
    "q_1, q_2 = 3, 5\n",
    "N = 2*np.lcm(q_1, q_2)\n",
    "t_nn, t_nnn = 1, 0.2\n",
    "\n",
    "T_max = 1\n",
    "r = np.linspace(0, T_max, 100)\n",
    "energies = []\n",
    "r_vals = []\n",
    "for r_val in r:\n",
    "    T_1 = T_max - r_val\n",
    "    T_2 = r_val\n",
    "    quasienergies = H_F_real(N, q_1, q_2, T_1, T_2, t_nn, t_nnn)\n",
    "    energies.append(quasienergies)\n",
    "    r_vals.append([r_val]*len(quasienergies))\n",
    "for i in range(len(energies)):\n",
    "    plt.scatter(r_vals[i], energies[i], marker='.', color='k', s=0.05)\n",
    "\n",
    "plt.xlabel(r\"$T_2/T$\", size=12)\n",
    "plt.ylabel(r\"$\\epsilon$\", size=14, rotation='horizontal', va=\"center\", labelpad=10)"
   ]
  },
  {
   "cell_type": "markdown",
   "id": "ca62440d-9398-4ea6-9671-0e28b13ddf8f",
   "metadata": {},
   "source": [
    "Plotting quasienergies for a cylindrical strip geometry supporting chiral edge modes"
   ]
  },
  {
   "cell_type": "code",
   "execution_count": null,
   "id": "eb15f49e-d9f0-422c-89e0-bed5efffdf50",
   "metadata": {},
   "outputs": [],
   "source": [
    "q_1, q_2 = 3, 5\n",
    "N = 20*np.lcm(q_1, q_2)\n",
    "t_nn, t_nnn = 1, 0.2\n",
    "\n",
    "energies = np.zeros((len(k_x), N))\n",
    "for i, kx_val in enumerate(k_x):\n",
    "    eigenvalues, eigenvectors, H = H_F_k_chiral(N, kx_val, q_1, q_2, T_1, T_2, t_nn, t_nnn)\n",
    "    energies[i] = np.sort(eigenvalues)\n",
    "\n",
    "fig = plt.figure(figsize=(8, 6))\n",
    "for n in range(N):\n",
    "    plt.plot(k_x/np.pi, energies[:, n], color='grey')\n",
    "plt.xlabel(r\"$k_x$ ($\\pi/a$)\", size=12)\n",
    "plt.ylabel(r\"$\\epsilon$\", rotation='horizontal', size=14, va='center')"
   ]
  }
 ],
 "metadata": {
  "kernelspec": {
   "display_name": "Python [conda env:base] *",
   "language": "python",
   "name": "conda-base-py"
  },
  "language_info": {
   "codemirror_mode": {
    "name": "ipython",
    "version": 3
   },
   "file_extension": ".py",
   "mimetype": "text/x-python",
   "name": "python",
   "nbconvert_exporter": "python",
   "pygments_lexer": "ipython3",
   "version": "3.13.5"
  }
 },
 "nbformat": 4,
 "nbformat_minor": 5
}
